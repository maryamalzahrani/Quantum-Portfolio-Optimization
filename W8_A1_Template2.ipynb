{
  "nbformat": 4,
  "nbformat_minor": 0,
  "metadata": {
    "celltoolbar": "Tags",
    "kernelspec": {
      "display_name": "Qiskit v0.32.1 (ipykernel)",
      "language": "python",
      "name": "python3"
    },
    "language_info": {
      "codemirror_mode": {
        "name": "ipython",
        "version": 3
      },
      "file_extension": ".py",
      "mimetype": "text/x-python",
      "name": "python",
      "nbconvert_exporter": "python",
      "pygments_lexer": "ipython3",
      "version": "3.8.10"
    },
    "varInspector": {
      "cols": {
        "lenName": 16,
        "lenType": 16,
        "lenVar": 40
      },
      "kernels_config": {
        "python": {
          "delete_cmd_postfix": "",
          "delete_cmd_prefix": "del ",
          "library": "var_list.py",
          "varRefreshCmd": "print(var_dic_list())"
        },
        "r": {
          "delete_cmd_postfix": ") ",
          "delete_cmd_prefix": "rm(",
          "library": "var_list.r",
          "varRefreshCmd": "cat(var_dic_list()) "
        }
      },
      "types_to_exclude": [
        "module",
        "function",
        "builtin_function_or_method",
        "instance",
        "_Feature"
      ],
      "window_display": false
    },
    "colab": {
      "name": "W8_A1_Template2.ipynb",
      "provenance": [],
      "include_colab_link": true
    }
  },
  "cells": [
    {
      "cell_type": "markdown",
      "metadata": {
        "id": "view-in-github",
        "colab_type": "text"
      },
      "source": [
        "<a href=\"https://colab.research.google.com/github/maryamalzahrani/Quantum-Portfolio-Optimization/blob/main/W8_A1_Template2.ipynb\" target=\"_parent\"><img src=\"https://colab.research.google.com/assets/colab-badge.svg\" alt=\"Open In Colab\"/></a>"
      ]
    },
    {
      "cell_type": "markdown",
      "metadata": {
        "id": "_4paO-JzBtGz"
      },
      "source": [
        "# Quantum Stock Picking and Quantum Portfolio Optimization\n"
      ]
    },
    {
      "cell_type": "markdown",
      "metadata": {
        "id": "LXqxwRD_BtG1"
      },
      "source": [
        "## Introduction\n",
        "\n",
        "This assignment will shows how we can use mean-variance optimization to pick stocks for a problem for $n$ assets:\n",
        "\n",
        "$$\\begin{aligned}\n",
        "\\min_{x \\in \\{0, 1\\}^n}  q x^T \\Sigma x - \\mu^T x\\\\\n",
        "\\text{subject to: } 1^T x = B\n",
        "\\end{aligned}$$\n",
        "\n",
        "where we use the following notation:\n",
        "\n",
        "- $x \\in \\{0, 1\\}^n$ denotes the vector of binary decision variables, which indicate which assets to pick ($x[i] = 1$) and which not to pick ($x[i] = 0$),\n",
        "- $\\mu \\in \\mathbb{R}^n$ defines the expected returns for the assets,\n",
        "- $\\Sigma \\in \\mathbb{R}^{n \\times n}$ specifies the covariances between the assets,\n",
        "- $q > 0$ controls the risk appetite of the decision maker,\n",
        "- and $B$ denotes the budget, i.e. the number of assets to be selected out of $n$.\n",
        "\n",
        "We assume the following simplifications:\n",
        "- all assets have the same price (normalized to 1),\n",
        "- the full budget $B$ has to be spent, i.e. one has to select exactly $B$ assets.\n",
        "\n",
        "The equality constraint $1^T x = B$ is mapped to a penalty term $(1^T x - B)^2$ which is scaled by a parameter and subtracted from the objective function. \n",
        "The resulting problem can be mapped to a Hamiltonian whose ground state corresponds to  the optimal solution.\n",
        "This notebook shows how to use the Variational Quantum Eigensolver (VQE) to find the optimal solution for a given set of parameters.\n",
        "\n",
        "Experiments on real quantum hardware for this problem are reported for instance in the following paper:\n",
        "<br>\n",
        "[Improving Variational Quantum Optimization using CVaR. Barkoutsos et al. 2019.](https://arxiv.org/abs/1907.04769)\n",
        "\n",
        "Note: We are not using CVaR as a portfolio statistic here, rather as a heuristic in our VQE procedure, curious students are encouraged to read the paper above."
      ]
    },
    {
      "cell_type": "markdown",
      "metadata": {
        "id": "5mhG6k2eBtG2"
      },
      "source": [
        "#### To Students: Complete the following sections labeled todo"
      ]
    },
    {
      "cell_type": "code",
      "metadata": {
        "ExecuteTime": {
          "end_time": "2020-07-13T20:35:05.710593Z",
          "start_time": "2020-07-13T20:34:57.647535Z"
        },
        "id": "5Y94fzvRBtG2"
      },
      "source": [
        "from qiskit import Aer\n",
        "from qiskit.algorithms import VQE, QAOA, NumPyMinimumEigensolver\n",
        "from qiskit.algorithms.optimizers import COBYLA\n",
        "from qiskit.circuit.library import TwoLocal\n",
        "from qiskit.utils import QuantumInstance\n",
        "from qiskit_finance.applications.optimization import PortfolioOptimization\n",
        "from qiskit_finance.data_providers import RandomDataProvider, YahooDataProvider\n",
        "from qiskit_optimization.algorithms import MinimumEigenOptimizer\n",
        "from qiskit_optimization.applications import OptimizationApplication\n",
        "from qiskit_optimization.converters import QuadraticProgramToQubo\n",
        "from qiskit.utils import algorithm_globals\n",
        "\n",
        "import numpy as np\n",
        "import matplotlib.pyplot as plt\n",
        "import datetime\n",
        "import pandas\n",
        "import pandas as pd\n",
        "\n",
        "def index_to_selection(i, num_assets):\n",
        "    s = \"{0:b}\".format(i).rjust(num_assets)\n",
        "    x = np.array([1 if s[i]=='1' else 0 for i in reversed(range(num_assets))])\n",
        "    return x\n",
        "\n",
        "def print_result(result):\n",
        "    selection = result.x\n",
        "    value = result.fval\n",
        "    print('Optimal: selection {}, value {:.4f}'.format(selection, value))\n",
        "    \n",
        "    eigenstate = result.min_eigen_solver_result.eigenstate\n",
        "    eigenvector = eigenstate if isinstance(eigenstate, np.ndarray) else eigenstate.to_matrix()\n",
        "    probabilities = np.abs(eigenvector)**2\n",
        "    i_sorted = reversed(np.argsort(probabilities))\n",
        "    print('\\n----------------- Full result ---------------------')\n",
        "    print('selection\\tvalue\\t\\tprobability')\n",
        "    print('---------------------------------------------------')\n",
        "    for i in i_sorted:\n",
        "        x = index_to_selection(i, num_assets)\n",
        "        value = QuadraticProgramToQubo().convert(qp).objective.evaluate(x)\n",
        "        #value = portfolio.to_quadratic_program().objective.evaluate(x)\n",
        "        probability = probabilities[i]\n",
        "        print('%10s\\t%.4f\\t\\t%.4f' %(x, value, probability))"
      ],
      "execution_count": null,
      "outputs": []
    },
    {
      "cell_type": "code",
      "metadata": {
        "id": "qZcKIoKTBtG3"
      },
      "source": [
        "#global random seed used throuhgout\n",
        "seed = 123"
      ],
      "execution_count": null,
      "outputs": []
    },
    {
      "cell_type": "code",
      "metadata": {
        "ExecuteTime": {
          "end_time": "2020-07-13T20:35:15.224327Z",
          "start_time": "2020-07-13T20:35:15.213892Z"
        },
        "id": "dcl-mWa_BtG4"
      },
      "source": [
        "# Generate expected return and covariance matrix from (random) time-series\n",
        "\n",
        "#Todo pick candidate stocks, 3-8 are recommended, stick to 4 if you're going to submit a real quantum experiment to IBM's cloud:\n",
        "\n",
        "stocks = ['AMZN','BABA','AAPL','TSLA']\n",
        "\n",
        "# Here are some quantum themed stocks :) \n",
        "# ['IBM','AMD','ACN','NVDA','GOOGL','MSFT','AMZN','MU','BABA']\n",
        "# Feel free to pick any in this list or beyond\n",
        "    \n",
        "num_assets = len(stocks)\n",
        "\n",
        "#IBM has done us a favour and provided a cute data provider they designed.\n",
        "data = YahooDataProvider(tickers=stocks,\n",
        "                 start=pandas.Timestamp('2015'),\n",
        "                 end=pandas.Timestamp.now())\n",
        "data.run()\n",
        "\n",
        "# Here we pull apart the IBM qiskit_finance.data_provider internals to retreive our data and format as a pandas DataFrame\n",
        "df = pandas.DataFrame({data._tickers[tidx]:data._data[tidx] for tidx in range(len(data._tickers))})\n",
        "\n",
        "# Provided by IBM\n",
        "mu = data.get_period_return_mean_vector()\n",
        "sigma = data.get_period_return_covariance_matrix()"
      ],
      "execution_count": null,
      "outputs": []
    },
    {
      "cell_type": "code",
      "metadata": {
        "ExecuteTime": {
          "end_time": "2020-07-13T20:35:15.231767Z",
          "start_time": "2020-07-13T20:35:15.226490Z"
        },
        "id": "1IfTH_5rBtG4",
        "outputId": "6659b34a-09b3-41c9-b0a7-d9f7d02afddd"
      },
      "source": [
        "q = 0.50                   #  risk appetite \n",
        "budget = num_assets  //2   #  stocks to allocate\n",
        "penalty = num_assets       #  set parameter to scale the budget penalty term\n",
        "bounds = None              #  Allocation percent: None: 100%\n",
        "\n",
        "portfolio = PortfolioOptimization(expected_returns=mu, covariances=sigma, risk_factor=q, budget=budget,bounds=bounds)\n",
        "qp = portfolio.to_quadratic_program()\n",
        "qp"
      ],
      "execution_count": null,
      "outputs": [
        {
          "data": {
            "text/plain": [
              "\\ This file has been generated by DOcplex\n",
              "\\ ENCODING=ISO-8859-1\n",
              "\\Problem name: Portfolio optimization\n",
              "\n",
              "Minimize\n",
              " obj: - 0.001563827890 x_0 - 0.000331569860 x_1 - 0.001252470955 x_2\n",
              "      - 0.002441197670 x_3 + [ 0.000361394698 x_0^2 + 0.000359448240 x_0*x_1\n",
              "      + 0.000386444492 x_0*x_2 + 0.000459099640 x_0*x_3 + 0.000475133341 x_1^2\n",
              "      + 0.000319643666 x_1*x_2 + 0.000439408024 x_1*x_3 + 0.000333937237 x_2^2\n",
              "      + 0.000480085392 x_2*x_3 + 0.001201451983 x_3^2 ]/2\n",
              "Subject To\n",
              " c0: x_0 + x_1 + x_2 + x_3 = 2\n",
              "\n",
              "Bounds\n",
              " 0 <= x_0 <= 1\n",
              " 0 <= x_1 <= 1\n",
              " 0 <= x_2 <= 1\n",
              " 0 <= x_3 <= 1\n",
              "\n",
              "Binaries\n",
              " x_0 x_1 x_2 x_3\n",
              "End"
            ]
          },
          "execution_count": 15,
          "metadata": {},
          "output_type": "execute_result"
        }
      ]
    },
    {
      "cell_type": "code",
      "metadata": {
        "ExecuteTime": {
          "end_time": "2020-07-13T20:35:15.243604Z",
          "start_time": "2020-07-13T20:35:15.233567Z"
        },
        "id": "Rpzn8y1LBtG5"
      },
      "source": [
        ""
      ],
      "execution_count": null,
      "outputs": []
    },
    {
      "cell_type": "markdown",
      "metadata": {
        "tags": [],
        "id": "xUV1ddlHBtG6"
      },
      "source": [
        "## Solution using VQE\n",
        "We can now use the Variational Quantum Eigensolver (VQE) to solve the problem. We will specify the optimizer and variational form to be used.\n",
        "\n",
        "Note: You can switch to different backends by providing the name of backend."
      ]
    },
    {
      "cell_type": "code",
      "metadata": {
        "id": "egjgW2KABtG6"
      },
      "source": [
        "from qiskit import IBMQ\n",
        "IBMQ.save_account('25fdd46e35169f77781809136caf59c01bf701294d90634fa5048dfeb0a5ddd5ebc3f851d45954ceb3b82c2d130dbfd53b0172efa6ceeff9c0cebc9689605460', overwrite=True)"
      ],
      "execution_count": null,
      "outputs": []
    },
    {
      "cell_type": "code",
      "metadata": {
        "id": "HZ2pkVDXBtG6",
        "outputId": "74bbccda-c1f9-4bed-f069-ac19edee45d8"
      },
      "source": [
        "IBMQ.load_account()"
      ],
      "execution_count": null,
      "outputs": [
        {
          "name": "stderr",
          "output_type": "stream",
          "text": [
            "ibmqfactory.load_account:WARNING:2021-12-03 01:18:19,190: Credentials are already in use. The existing account in the session will be replaced.\n"
          ]
        },
        {
          "data": {
            "text/plain": [
              "<AccountProvider for IBMQ(hub='ibm-q', group='open', project='main')>"
            ]
          },
          "execution_count": 17,
          "metadata": {},
          "output_type": "execute_result"
        }
      ]
    },
    {
      "cell_type": "code",
      "metadata": {
        "ExecuteTime": {
          "end_time": "2020-07-13T20:35:26.536878Z",
          "start_time": "2020-07-13T20:35:24.379996Z"
        },
        "id": "55BWybCJBtG7",
        "outputId": "df8073b6-1f63-4802-9376-6066ecd53be9"
      },
      "source": [
        "algorithm_globals.random_seed = seed\n",
        "backend = Aer.get_backend('statevector_simulator')\n",
        "\n",
        "#backend = IBMQ.providers()[0].backends()[-1]\n",
        "\n",
        "cobyla = COBYLA()\n",
        "cobyla.set_options(maxiter=500)\n",
        "\n",
        "ry = TwoLocal(num_assets, 'ry', 'cz', reps=3, entanglement='full')\n",
        "\n",
        "quantum_instance = QuantumInstance(backend=backend, seed_simulator=seed, seed_transpiler=seed)\n",
        "\n",
        "vqe_mes = VQE(ry, optimizer=cobyla, quantum_instance=quantum_instance)\n",
        "vqe = MinimumEigenOptimizer(vqe_mes)\n",
        "\n",
        "result = vqe.solve(qp)\n",
        "\n",
        "\n",
        "# print(result.fval)\n",
        "print_result(result)"
      ],
      "execution_count": null,
      "outputs": [
        {
          "name": "stdout",
          "output_type": "stream",
          "text": [
            "Optimal: selection [1. 0. 0. 1.], value -0.0030\n",
            "\n",
            "----------------- Full result ---------------------\n",
            "selection\tvalue\t\tprobability\n",
            "---------------------------------------------------\n",
            " [0 0 1 1]\t-0.0027\t\t0.2789\n",
            " [1 1 0 0]\t-0.0013\t\t0.2245\n",
            " [1 0 0 1]\t-0.0030\t\t0.1552\n",
            " [0 1 0 1]\t-0.0017\t\t0.1517\n",
            " [1 0 1 0]\t-0.0023\t\t0.1218\n",
            " [0 1 1 0]\t-0.0010\t\t0.0676\n",
            " [0 1 1 1]\t1.0056\t\t0.0002\n",
            " [1 0 0 0]\t1.0066\t\t0.0001\n",
            " [0 0 0 1]\t1.0062\t\t0.0001\n",
            " [1 1 1 0]\t1.0060\t\t0.0000\n",
            " [0 1 0 0]\t1.0079\t\t0.0000\n",
            " [1 0 1 1]\t1.0044\t\t0.0000\n",
            " [0 0 1 0]\t1.0069\t\t0.0000\n",
            " [0 0 0 0]\t4.0320\t\t0.0000\n",
            " [1 1 0 1]\t1.0053\t\t0.0000\n",
            " [1 1 1 1]\t4.0288\t\t0.0000\n"
          ]
        }
      ]
    },
    {
      "cell_type": "code",
      "metadata": {
        "id": "38_JXC5XBtG7"
      },
      "source": [
        ""
      ],
      "execution_count": null,
      "outputs": []
    },
    {
      "cell_type": "code",
      "metadata": {
        "id": "92LTNuggBtG7",
        "outputId": "90aec69f-c1d9-4ed8-9680-84cd4143fae5"
      },
      "source": [
        "selected_stocks = list(np.array(stocks)[result.x.astype('bool')])\n",
        "print(f\"Stocks from our Qunatum Stock Picking algorthm selected: {selected_stocks}\")"
      ],
      "execution_count": null,
      "outputs": [
        {
          "name": "stdout",
          "output_type": "stream",
          "text": [
            "Stocks from our Qunatum Stock Picking algorthm selected: ['AMZN', 'TSLA']\n"
          ]
        }
      ]
    },
    {
      "cell_type": "markdown",
      "metadata": {
        "id": "EVACKo1iBtG7"
      },
      "source": [
        "### Student todo, complete an equity curve, CAGR and IR comparison for the portfolio of all the stocks you selected for optimization compared to one which your Quantum Stock picker put together\n",
        "\n",
        "hints:\n",
        "\n",
        "\n",
        "df[selected_stocks] contains a data frame with your stock pick prices.   \n",
        "df is the full list of stocks you started with."
      ]
    },
    {
      "cell_type": "code",
      "metadata": {
        "id": "O7FSeEieBtG8",
        "outputId": "bfb5fba4-81c7-4a69-b78e-45e63b1a57b1"
      },
      "source": [
        "all_df = df\n",
        "sel_df = df[selected_stocks]\n",
        "all_df_dr = all_df.pct_change().dropna().mean(axis=1)\n",
        "sel_df_dr = sel_df.pct_change().dropna().mean(axis=1)\n",
        "\n",
        "eq_all = 10000*all_df_dr.add(1).cumprod()\n",
        "eq_sel = 10000*sel_df_dr.add(1).cumprod()\n",
        "\n",
        "eq_all.plot()\n",
        "eq_sel.plot()\n",
        "plt.legend(['All','Q-Stk-Pck-er'])\n",
        "\n",
        "IR_all = (all_df_dr.mean()/ all_df_dr.std()) *(252)**0.5\n",
        "IR_sel = (sel_df_dr.mean()/ sel_df_dr.std()) *(252)**0.5\n",
        "\n",
        "\n",
        "CAGR_all = 100*((eq_all.iloc[-1]/10000)-1)** (252/len(eq_all))\n",
        "#CAGR_sell = 100*((eq_sel.iloc[-1]/10000)-1)** (252/len(eq_sel))\n",
        "CAGR_sel =  100*((eq_sel.iloc[-1]/10000)-1)** (365/(df.index[-1] - df.index[0]).days)\n",
        "\n",
        "\n",
        "print(f\"IR selection: {round(IR_sel,2)}\")\n",
        "print(f\"IR all:{round(IR_all,2)} \\n\")\n",
        "\n",
        "\n",
        "#print(f\"CAGR selection: {round(CAGR_sell,2)}%\")\n",
        "print(f\"CAGR selection: {round(CAGR_sel,2)}%\")\n",
        "print(f\"CAGR all: {round(CAGR_all,2)}%\")\n"
      ],
      "execution_count": null,
      "outputs": [
        {
          "name": "stdout",
          "output_type": "stream",
          "text": [
            "IR selection: 1.41\n",
            "IR all:1.28 \n",
            "\n",
            "CAGR selection: 154.2%\n",
            "CAGR all: 134.5%\n"
          ]
        },
        {
          "data": {
            "image/png": "[encoded data removed]",
            "text/plain": [
              "<Figure size 432x288 with 1 Axes>"
            ]
          },
          "metadata": {
            "needs_background": "light"
          },
          "output_type": "display_data"
        }
      ]
    },
    {
      "cell_type": "markdown",
      "metadata": {
        "id": "rqFbqdcRBtG8"
      },
      "source": [
        "# (Optional) For Advanced Students:\n",
        "\n",
        "## Here we will make some modifications to do portfolio optimization\n",
        "\n",
        "\n",
        "This tutorial shows how to solve the following mean-variance portfolio optimization problem for $n$ assets:\n",
        "\n",
        "$$\\begin{aligned}\n",
        "\\min_{x \\in \\{j ... k\\}^n}  q x^T \\Sigma x - \\mu^T x\\\\\n",
        "\\text{subject to: } 1^T x = B\n",
        "\\end{aligned}$$\n",
        "\n",
        "where we use the following notation:\n",
        "\n",
        "- $x \\in \\{-j, +k\\}^n$ denotes the vector of weight allocation variables, which indicate the relative allocation to assign. \n",
        "- $\\mu \\in \\mathbb{R}^n$ defines the expected returns for the assets,\n",
        "- $\\Sigma \\in \\mathbb{R}^{n \\times n}$ specifies the covariances between the assets,\n",
        "- $q > 0$ controls the risk appetite of the decision maker,\n",
        "- and $B$ denotes the budget, i.e. the number of assets to be selected out of $n$.\n",
        "\n",
        "We assume the following simplifications:\n",
        "- all assets have the same price (normalized to 1),\n",
        "- the full budget $B$ has to be spent, i.e. one has to allocate exactly $B$ relative amounts of asset.\n",
        "\n",
        "The equality constraint $1^T x = B$ is mapped to a penalty term $(1^T x - B)^2$ which is scaled by a parameter and subtracted from the objective function. \n",
        "The resulting problem can be mapped to a Hamiltonian whose ground state corresponds to  the optimal solution.\n",
        "This rest of this notebook shows how to use the Variational Quantum Eigensolver (VQE) an optimal solution for a given set of parameters."
      ]
    },
    {
      "cell_type": "code",
      "metadata": {
        "id": "OVQ3QjrhBtG8",
        "outputId": "7e7a1b37-b559-4c24-e806-ebbb2ba149af"
      },
      "source": [
        "\n",
        "q = 0.50                   #  risk appetite \n",
        "budget = num_assets        #  Units to allocate\n",
        "penalty = num_assets //2   #  set parameter to scale the budget penalty term\n",
        "bounds = [(-1,2)]*num_assets  #  Allocation units, can be negative or positive\n",
        "\n",
        "\n",
        "portfolio = PortfolioOptimization(expected_returns=mu, covariances=sigma, risk_factor=q, budget=budget,bounds=bounds)\n",
        "qp = portfolio.to_quadratic_program()\n",
        "qp"
      ],
      "execution_count": null,
      "outputs": [
        {
          "data": {
            "text/plain": [
              "\\ This file has been generated by DOcplex\n",
              "\\ ENCODING=ISO-8859-1\n",
              "\\Problem name: Portfolio optimization\n",
              "\n",
              "Minimize\n",
              " obj: - 0.001563827890 x_0 - 0.000331569860 x_1 - 0.001252470955 x_2\n",
              "      - 0.002441197670 x_3 + [ 0.000361394698 x_0^2 + 0.000359448240 x_0*x_1\n",
              "      + 0.000386444492 x_0*x_2 + 0.000459099640 x_0*x_3 + 0.000475133341 x_1^2\n",
              "      + 0.000319643666 x_1*x_2 + 0.000439408024 x_1*x_3 + 0.000333937237 x_2^2\n",
              "      + 0.000480085392 x_2*x_3 + 0.001201451983 x_3^2 ]/2\n",
              "Subject To\n",
              " c0: x_0 + x_1 + x_2 + x_3 = 4\n",
              "\n",
              "Bounds\n",
              " -1 <= x_0 <= 2\n",
              " -1 <= x_1 <= 2\n",
              " -1 <= x_2 <= 2\n",
              " -1 <= x_3 <= 2\n",
              "\n",
              "Generals\n",
              " x_0 x_1 x_2 x_3\n",
              "End"
            ]
          },
          "execution_count": 24,
          "metadata": {},
          "output_type": "execute_result"
        }
      ]
    },
    {
      "cell_type": "code",
      "metadata": {
        "id": "LvnwdscuBtG8"
      },
      "source": [
        "algorithm_globals.random_seed = seed\n",
        "backend = Aer.get_backend('statevector_simulator')\n",
        "\n",
        "\n",
        "cobyla = COBYLA()\n",
        "cobyla.set_options(maxiter=500)\n",
        "\n",
        "ry = TwoLocal(num_assets, 'ry', 'cz', reps=3, entanglement='full')\n",
        "\n",
        "quantum_instance = QuantumInstance(backend=backend, seed_simulator=seed, seed_transpiler=seed)\n",
        "\n",
        "vqe_mes = VQE(ry, optimizer=cobyla, quantum_instance=quantum_instance)\n",
        "vqe = MinimumEigenOptimizer(vqe_mes)\n",
        "\n",
        "result = vqe.solve(qp)"
      ],
      "execution_count": null,
      "outputs": []
    },
    {
      "cell_type": "code",
      "metadata": {
        "id": "-g_nXKWlBtG9",
        "outputId": "0c8203e3-2a0f-407c-dbb9-39a542ef8356"
      },
      "source": [
        "allocations = pandas.DataFrame({f\"{stocks[tidx]}\":result.x[tidx] for tidx in range(len(stocks))},index=['Allocation'])\n",
        "allocations"
      ],
      "execution_count": null,
      "outputs": [
        {
          "data": {
            "text/html": [
              "<div>\n",
              "<style scoped>\n",
              "    .dataframe tbody tr th:only-of-type {\n",
              "        vertical-align: middle;\n",
              "    }\n",
              "\n",
              "    .dataframe tbody tr th {\n",
              "        vertical-align: top;\n",
              "    }\n",
              "\n",
              "    .dataframe thead th {\n",
              "        text-align: right;\n",
              "    }\n",
              "</style>\n",
              "<table border=\"1\" class=\"dataframe\">\n",
              "  <thead>\n",
              "    <tr style=\"text-align: right;\">\n",
              "      <th></th>\n",
              "      <th>AMZN</th>\n",
              "      <th>BABA</th>\n",
              "      <th>AAPL</th>\n",
              "      <th>TSLA</th>\n",
              "    </tr>\n",
              "  </thead>\n",
              "  <tbody>\n",
              "    <tr>\n",
              "      <th>Allocation</th>\n",
              "      <td>2.0</td>\n",
              "      <td>0.0</td>\n",
              "      <td>2.0</td>\n",
              "      <td>0.0</td>\n",
              "    </tr>\n",
              "  </tbody>\n",
              "</table>\n",
              "</div>"
            ],
            "text/plain": [
              "            AMZN  BABA  AAPL  TSLA\n",
              "Allocation   2.0   0.0   2.0   0.0"
            ]
          },
          "execution_count": 28,
          "metadata": {},
          "output_type": "execute_result"
        }
      ]
    },
    {
      "cell_type": "markdown",
      "metadata": {
        "id": "vrg2YAcsBtG9"
      },
      "source": [
        "### Student todo, complete an equity curve, CAGR and IR comparison for the a portfolio of all the stocks you selected for optimization compared to one which your Quantum Portfolio Optimzer put together.\n",
        "\n",
        "hints:\n",
        "\n",
        "\n",
        "The variable allocations contains a DataFrame with your relative stock allocations.   \n",
        "df is the full list of stocks you started with."
      ]
    },
    {
      "cell_type": "code",
      "metadata": {
        "id": "epNqwfAxBtG9"
      },
      "source": [
        ""
      ],
      "execution_count": null,
      "outputs": []
    },
    {
      "cell_type": "code",
      "metadata": {
        "id": "FzAV65frBtG9"
      },
      "source": [
        ""
      ],
      "execution_count": null,
      "outputs": []
    }
  ]
}